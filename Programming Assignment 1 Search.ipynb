{
 "cells": [
  {
   "cell_type": "markdown",
   "id": "0d30aeab",
   "metadata": {},
   "source": [
    "# Programming Assignment 1: Search\n",
    "\n",
    "### Pre-requisites (Input Parsing)"
   ]
  },
  {
   "cell_type": "code",
   "execution_count": 38,
   "id": "25c26edd",
   "metadata": {},
   "outputs": [
    {
     "name": "stdout",
     "output_type": "stream",
     "text": [
      "Goal target: 20.0 Goal weight: 10.0\n",
      "Name: A   Target: 10.0   Weight: 8.0\n",
      "Name: B   Target: 8.0   Weight: 4.0\n",
      "Name: C   Target: 7.0   Weight: 3.0\n",
      "Name: D   Target: 6.0   Weight: 3.0\n",
      "Name: E   Target: 4.0   Weight: 1.0\n"
     ]
    }
   ],
   "source": [
    "#Input Parsing for proper data storage\n",
    "import csv\n",
    "iparr = []\n",
    "ip = open('input.txt')\n",
    "ipr = ip.read() \n",
    "ipr = ipr.split()\n",
    "\n",
    "#Knapsack Object that contains name, target, and weight\n",
    "class Knapsack:\n",
    "    def __init__(self,name,target,weight):\n",
    "        self.name = name\n",
    "        self.target = float(target)\n",
    "        self.weight = float(weight)\n",
    "        \n",
    "    def __add__(self, ks):\n",
    "        name = self.name + ks.name\n",
    "        target = self.target + ks.target\n",
    "        weight = self.weight + ks.weight\n",
    "        return Knapsack(name,target,weight)\n",
    "    \n",
    "    def __str__(self):\n",
    "        return f'Name: {self.name}   Target: {self.target}   Weight: {self.weight}'\n",
    "\n",
    "#Put all data into appropriate formats\n",
    "ttarget = float(ipr[0])\n",
    "tweight = float(ipr[1])\n",
    "ksarr = []\n",
    "for i in range(2, len(ipr), 3):\n",
    "    ksarr.append(Knapsack(ipr[i],ipr[i+1],ipr[i+2]))\n",
    "\n",
    "#Print collected information\n",
    "print('Goal target:', ttarget, 'Goal weight:', tweight)\n",
    "for i in ksarr:\n",
    "    print (i)"
   ]
  },
  {
   "cell_type": "markdown",
   "id": "e40cc1df",
   "metadata": {},
   "source": [
    "### Iterative Deepening"
   ]
  },
  {
   "cell_type": "code",
   "execution_count": null,
   "id": "2a286ec9",
   "metadata": {},
   "outputs": [],
   "source": [
    "\"\"\"\n",
    "ids() {\n",
    " for (i=0 to d) {\n",
    " ans = do a DFS to depth i;\n",
    " if goal(ans) return ans;\n",
    " }\n",
    " return FAIL;\n",
    "}\n",
    "\"\"\"\n",
    "\n",
    "\"\"\"\n",
    "dfs() { return dfs1(start); } % returns a goal state, or “FAIL”\n",
    "dfs1(s) { % returns a goal in the subtree rooted as s\n",
    " if (goal(s)) return s;\n",
    " for (c in successors(s)) {\n",
    " ans = dfs1(c);\n",
    " if (ans != “FAIL”) return ans;\n",
    " }\n",
    " return “FAIL”; % if none of the successors of s work,\n",
    " } % then there is no goal in the subtree of s\n",
    "% Two base cases for recursion:\n",
    "% A goal is found, or state s has no successors\n",
    "\"\"\"\n",
    "def goal(k):\n",
    "    if k.weight <= tweight and k.target >= ttarget:\n",
    "        return True\n",
    "\n",
    "def ids():\n",
    "    for i in range(depth):\n",
    "        ans = dfs(i)\n",
    "        if goal(ans): \n",
    "            return ans\n",
    "    return \"\"\n",
    "\n",
    "def dfs(root):\n",
    "    if goal(root): \n",
    "        return root\n",
    "    "
   ]
  },
  {
   "cell_type": "markdown",
   "id": "4b84367a",
   "metadata": {},
   "source": [
    "### Hill Climbing"
   ]
  },
  {
   "cell_type": "code",
   "execution_count": null,
   "id": "2a9f2773",
   "metadata": {},
   "outputs": [],
   "source": []
  }
 ],
 "metadata": {
  "kernelspec": {
   "display_name": "Python 3",
   "language": "python",
   "name": "python3"
  },
  "language_info": {
   "codemirror_mode": {
    "name": "ipython",
    "version": 3
   },
   "file_extension": ".py",
   "mimetype": "text/x-python",
   "name": "python",
   "nbconvert_exporter": "python",
   "pygments_lexer": "ipython3",
   "version": "3.8.8"
  }
 },
 "nbformat": 4,
 "nbformat_minor": 5
}
